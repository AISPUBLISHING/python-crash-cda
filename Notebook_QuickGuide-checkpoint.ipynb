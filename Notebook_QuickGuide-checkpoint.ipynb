{
 "cells": [
  {
   "cell_type": "markdown",
   "metadata": {},
   "source": [
    "# IPython Notebooks - Quick Guide\n",
    "## Summary\n",
    "- [Markdown Cells](#Markdown-Cells)\n",
    "- [Code Cells](#Code-Cells)\n",
    "- [Raw Cells](#Raw-Cells)\n",
    "- [Shortcuts](#Shortcuts)\n",
    "- [Tips and Tricks](#Tips-and-Tricks)\n",
    "\n",
    "A quick overview of the types of Notebooks cells."
   ]
  },
  {
   "cell_type": "markdown",
   "metadata": {},
   "source": [
    "---"
   ]
  },
  {
   "cell_type": "markdown",
   "metadata": {},
   "source": [
    "# Markdown Cells\n",
    "(Click the cell bellow to edit it)"
   ]
  },
  {
   "cell_type": "markdown",
   "metadata": {},
   "source": [
    "Hello World!!"
   ]
  },
  {
   "cell_type": "markdown",
   "metadata": {},
   "source": [
    "After edit, press `Ctrl` + `Enter` to render(run) the cell.\n",
    "\n",
    "To edit the cell again **double click** it or press `Enter` with the cell selected.\n",
    "\n",
    "Now edit the cell bellow, but now press `Shift` + `Enter` to run the cell and move to the next."
   ]
  },
  {
   "cell_type": "markdown",
   "metadata": {},
   "source": [
    "#### Hello World\n",
    "\n",
    "1. Uno\n",
    "2. Dos\n",
    "  * Tres"
   ]
  },
  {
   "cell_type": "markdown",
   "metadata": {},
   "source": [
    "---"
   ]
  },
  {
   "cell_type": "markdown",
   "metadata": {},
   "source": [
    "# Code Cells"
   ]
  },
  {
   "cell_type": "markdown",
   "metadata": {},
   "source": [
    "**Code Cells** can be run, just like **Markdown Cells**\n",
    "- `Ctrl` + `Enter` (Run current selected cell).\n",
    "- `Shift` + `Enter` (Run current cell and select next).\n",
    "\n",
    "(Run the cell bellow)"
   ]
  },
  {
   "cell_type": "code",
   "execution_count": null,
   "metadata": {},
   "outputs": [],
   "source": [
    "# Code cell\n",
    "print(\"Hello World!\")"
   ]
  },
  {
   "cell_type": "markdown",
   "metadata": {},
   "source": [
    "Code cells executes by using an [IPython](https://ipython.org/) Kernel.\n",
    "\n",
    "You can check the **Kernel Status** by hovering the icon in to top left corner.\n",
    "- ⚪️ means the kernel is idle.\n",
    "- ⚫️ means the kernel is busy.\n",
    "\n",
    "(Run the cell to see the kernel status change)"
   ]
  },
  {
   "cell_type": "code",
   "execution_count": null,
   "metadata": {},
   "outputs": [],
   "source": [
    "# Just to keep the kernel busy\n",
    "for i in range(10**7):\n",
    "    pass"
   ]
  },
  {
   "cell_type": "markdown",
   "metadata": {},
   "source": [
    "Variables in the **Code Cells** are only available in other cells, after their definition.\n",
    "\n",
    "(Try to run the cell bellow)"
   ]
  },
  {
   "cell_type": "code",
   "execution_count": null,
   "metadata": {},
   "outputs": [],
   "source": [
    "print(x)"
   ]
  },
  {
   "cell_type": "markdown",
   "metadata": {},
   "source": [
    "Now, run the cell bellow, then run the cell above again."
   ]
  },
  {
   "cell_type": "code",
   "execution_count": null,
   "metadata": {},
   "outputs": [],
   "source": [
    "x = 42"
   ]
  },
  {
   "cell_type": "markdown",
   "metadata": {},
   "source": [
    "If in the last line of the **Code Cell** there is a variable not assigned to anything, its value is shown in the output of the cell."
   ]
  },
  {
   "cell_type": "code",
   "execution_count": null,
   "metadata": {},
   "outputs": [],
   "source": [
    "y = 3.14\n",
    "y"
   ]
  },
  {
   "cell_type": "markdown",
   "metadata": {},
   "source": [
    "The brackets `[]`, beside the cell shows the order which the **Code Cells** were executed."
   ]
  },
  {
   "cell_type": "markdown",
   "metadata": {},
   "source": [
    "Cells have two modes:\n",
    "- **Edit Mode**: A blinking text cursor is visible.\n",
    "- **Command Mode**: There is no text cursor.\n",
    "\n",
    "You can use `ESC` key to go from Edit to Command Mode, and `ENTER` to the other way around (from Command to Edit Mode)\n",
    "\n",
    "A Cell switches to Command Mode after ran."
   ]
  },
  {
   "cell_type": "markdown",
   "metadata": {},
   "source": [
    "---"
   ]
  },
  {
   "cell_type": "markdown",
   "metadata": {},
   "source": [
    "# Raw Cells\n",
    "\n",
    "Raw cells are just plain text without formating or code execution.\n",
    "\n",
    "(Run the cell bellow to see ~~no~~ results)"
   ]
  },
  {
   "cell_type": "raw",
   "metadata": {},
   "source": [
    "EXAMPLE OF RAW CELL\n",
    "**NO FORMATING** _IS RENDERED_ IN THIS CELL\n",
    "NOR CODE EXECUTION\n",
    "x = 1\n",
    "print(x)"
   ]
  },
  {
   "cell_type": "markdown",
   "metadata": {},
   "source": [
    "Pretty boring...right?"
   ]
  },
  {
   "cell_type": "markdown",
   "metadata": {},
   "source": [
    "---"
   ]
  },
  {
   "cell_type": "markdown",
   "metadata": {},
   "source": [
    "# Shortcuts\n",
    "\n",
    "All shortcuts can **ONLY** be used on cells in **Command Mode**."
   ]
  },
  {
   "cell_type": "markdown",
   "metadata": {},
   "source": [
    "### Add New Cell\n",
    "\n",
    "With a cell selected, you can add cells above with `A` or bellow with `B`."
   ]
  },
  {
   "cell_type": "markdown",
   "metadata": {},
   "source": [
    "(Using the shortcut, add a cell above and bellow this cell)"
   ]
  },
  {
   "cell_type": "markdown",
   "metadata": {},
   "source": [
    "### Change Cell Type\n",
    "\n",
    "Cell types can be change using the following shortcuts:\n",
    "- `M`: Change cell type to Markdown\n",
    "- `Y`: Change cell type to Code\n",
    "- `R`: Change cell type to Raw\n",
    "\n",
    "(Correct the cell types bellow according to its content, and rerun them)"
   ]
  },
  {
   "cell_type": "markdown",
   "metadata": {},
   "source": [
    "print(\"This is a code cell!\")"
   ]
  },
  {
   "cell_type": "code",
   "execution_count": null,
   "metadata": {},
   "outputs": [],
   "source": [
    "##### This is a `Markdown` Cell!"
   ]
  },
  {
   "cell_type": "code",
   "execution_count": null,
   "metadata": {},
   "outputs": [],
   "source": [
    "JUST A RAW CELL"
   ]
  },
  {
   "cell_type": "markdown",
   "metadata": {},
   "source": [
    "### Delete a Cell\n",
    "\n",
    "A selected cell can be deleted by pressing `D` + `D`. \n",
    "\n",
    "(Delete the next cell)"
   ]
  },
  {
   "cell_type": "raw",
   "metadata": {},
   "source": [
    "DELETE THIS CELL"
   ]
  },
  {
   "cell_type": "markdown",
   "metadata": {},
   "source": [
    "### Copy/Cut/Past Cells\n",
    "\n",
    "Press `C` to Copy a cell.\n",
    "Press `X` to Cut a cell.\n",
    "Press `V` to Paste a cell bellow.\n",
    "\n",
    "(Test on the cells bellow)"
   ]
  },
  {
   "cell_type": "markdown",
   "metadata": {},
   "source": [
    "**CELL A** - CUT THIS CELL AND PASTE IT AFTER **CELL B**"
   ]
  },
  {
   "cell_type": "markdown",
   "metadata": {},
   "source": [
    "**CELL B** - DON'T TOUCH THIS CELL"
   ]
  },
  {
   "cell_type": "markdown",
   "metadata": {},
   "source": [
    "**CELL C** - COPY THIS CELL AND PASTE IT ABOVE **CELL B**"
   ]
  },
  {
   "cell_type": "markdown",
   "metadata": {},
   "source": [
    "### Undo/Redo Cell Operation\n",
    "\n",
    "Press `Z` to undo last cell operation.\n",
    "\n",
    "Press `Shift` + `Z` to redo last cell operation.\n",
    "\n",
    "(Test on the cell bellow)"
   ]
  },
  {
   "cell_type": "raw",
   "metadata": {},
   "source": [
    "DELETE, RECOVER AND RE-DELETE THIS CELL"
   ]
  },
  {
   "cell_type": "markdown",
   "metadata": {},
   "source": [
    "### Interrupt Cell Execution\n",
    "\n",
    "Code Cells can be interrupted by pressing `I` + `I`.\n",
    "\n",
    "(Run and interrupt the cell bellow)"
   ]
  },
  {
   "cell_type": "code",
   "execution_count": null,
   "metadata": {},
   "outputs": [],
   "source": [
    "for i in range(100**10000):\n",
    "    pass"
   ]
  },
  {
   "cell_type": "markdown",
   "metadata": {},
   "source": [
    "# Tips and Tricks\n",
    "\n",
    "The notebook is also a powerful code editor. Besides **Syntax Highlight** the editor is also capable of **Code Completion** and **Tooltips**.\n",
    "\n",
    "Consider the cells bellow."
   ]
  },
  {
   "cell_type": "code",
   "execution_count": null,
   "metadata": {},
   "outputs": [],
   "source": [
    "import numpy as np\n",
    "a = np.array([1, 2, 3, 4, 5, 6])"
   ]
  },
  {
   "cell_type": "markdown",
   "metadata": {},
   "source": [
    "Now, consider that you know that there is a built-in function of the `array` class that returns its max value. However, you don't remember the function's name.\n",
    "\n",
    "In the notebook, you can use the **Code completion** to try to refresh your memory. To evoke code completion, just place the cursor after the dot `.` in `a.` and press `TAB`."
   ]
  },
  {
   "cell_type": "code",
   "execution_count": null,
   "metadata": {},
   "outputs": [],
   "source": [
    "a."
   ]
  },
  {
   "cell_type": "markdown",
   "metadata": {},
   "source": [
    "In order to know exactly what the picked method does, place the cursor after the function's name and press `Shift` + `TAB`.\n",
    "\n",
    "The **Tooltip** shows the function documentation."
   ]
  },
  {
   "cell_type": "markdown",
   "metadata": {},
   "source": [
    "**Try to solve the similar problem bellow**\n",
    "\n",
    "Now, consider that you want a method of the `array` that returns the average of its value. Use **Code completion** to find this method, and confirm the function usage consulting its documentation."
   ]
  },
  {
   "cell_type": "code",
   "execution_count": null,
   "metadata": {},
   "outputs": [],
   "source": []
  },
  {
   "cell_type": "markdown",
   "metadata": {},
   "source": [
    "Code console can also be usefull for debuging purposes."
   ]
  }
 ],
 "metadata": {
  "kernelspec": {
   "display_name": "Python 3",
   "language": "python",
   "name": "python3"
  },
  "language_info": {
   "codemirror_mode": {
    "name": "ipython",
    "version": 3
   },
   "file_extension": ".py",
   "mimetype": "text/x-python",
   "name": "python",
   "nbconvert_exporter": "python",
   "pygments_lexer": "ipython3",
   "version": "3.6.5"
  }
 },
 "nbformat": 4,
 "nbformat_minor": 2
}
