{
 "cells": [
  {
   "cell_type": "markdown",
   "metadata": {},
   "source": [
    "# Command Line Interpreter - CLI\n",
    "\n",
    "Every OS has a built-in CLI that allows the execution of commands to automate tasks and perform advanced administrative functions. Additionally, it is used for troubleshooting and executing diagnostic tools. "
   ]
  },
  {
   "cell_type": "markdown",
   "metadata": {},
   "source": [
    "## 1. Opening the CLI"
   ]
  },
  {
   "cell_type": "markdown",
   "metadata": {},
   "source": [
    "As this is different depending on the OS used, we will have a topic for each of the three most popular systems: **Windows 10**, **OS X** and **Ubuntu**. "
   ]
  },
  {
   "cell_type": "markdown",
   "metadata": {},
   "source": [
    "### Windows 10\n",
    "\n",
    "On Windows, the CLI is called **Command Prompt** and sometimes referred as command shell or cmd prompt. It can be started in multiple ways, some are listed below.\n",
    "- Search **Command Prompt** in the Start Menu.\n",
    "- Press **Win + R** and type **cmd** and press enter.\n",
    "\n",
    "![](media/win.png)"
   ]
  },
  {
   "cell_type": "markdown",
   "metadata": {},
   "source": [
    "### OS X\n",
    "\n",
    "On OS X, the CLI is called **Terminal**. Below there is a list of the multiple ways it can be started It can be started in multiple ways, some are listed below.\n",
    "- Search for **terminal** in Spotlight.\n",
    "- Press **⌘ + Space** and type **terminal** and press enter.\n",
    "\n",
    "![](media/mac.png)"
   ]
  },
  {
   "cell_type": "markdown",
   "metadata": {},
   "source": [
    "### Ubuntu\n",
    "\n",
    "On Ubuntu, the CLI is called Terminal as well and it can be opened in various ways:\n",
    "- Search for **terminal** on the Dash.\n",
    "- Press  **Ctrl + Shift + T**.\n",
    "\n",
    "![](media/linux.png)"
   ]
  },
  {
   "cell_type": "markdown",
   "metadata": {},
   "source": [
    "## 2. Basic Commands\n",
    "Here is a small number of commands available for those CLI  in each Operating system. "
   ]
  },
  {
   "cell_type": "markdown",
   "metadata": {},
   "source": [
    "#### Change Directory\n",
    "\n",
    "This command changes the current focused directory.\n",
    "\n",
    "On **Windows 10**, **OS X** and **Ubuntu**:\n"
   ]
  },
  {
   "cell_type": "raw",
   "metadata": {},
   "source": [
    "cd directory_path"
   ]
  },
  {
   "cell_type": "markdown",
   "metadata": {},
   "source": [
    "#### List Directory Content\n",
    "\n",
    "This command lists all files and folder available in the current directory.\n",
    "\n",
    "On **OS X** and **Ubuntu**:"
   ]
  },
  {
   "cell_type": "raw",
   "metadata": {},
   "source": [
    "ls"
   ]
  },
  {
   "cell_type": "markdown",
   "metadata": {},
   "source": [
    "On **Windows 10**:"
   ]
  },
  {
   "cell_type": "raw",
   "metadata": {},
   "source": [
    "dir"
   ]
  },
  {
   "cell_type": "markdown",
   "metadata": {},
   "source": [
    "#### Create a New Directory\n",
    "\n",
    "This command created a new directory in the current location.\n",
    "\n",
    "On **Windows 10**, **OS X** and **Ubuntu**:"
   ]
  },
  {
   "cell_type": "raw",
   "metadata": {},
   "source": [
    "mkdir directory_name"
   ]
  },
  {
   "cell_type": "markdown",
   "metadata": {},
   "source": [
    "## 3. Exercise!\n",
    "Now is your turn! Try to complete these steps:\n",
    "\n",
    "**1.** Open the shell/terminal on your system.\n",
    "\n",
    "**2.** Navigate to the Desktop folder using the appropriate command.\n",
    "\n",
    "**3.** Create a new folder with the name `test_folder` using the terminal/shell.\n",
    "\n",
    "**4.** Confirm that the folder was created using the terminal/shell appropriate command. \n"
   ]
  }
 ],
 "metadata": {
  "kernelspec": {
   "display_name": "Python 3",
   "language": "python",
   "name": "python3"
  },
  "language_info": {
   "codemirror_mode": {
    "name": "ipython",
    "version": 3
   },
   "file_extension": ".py",
   "mimetype": "text/x-python",
   "name": "python",
   "nbconvert_exporter": "python",
   "pygments_lexer": "ipython3",
   "version": "3.6.5"
  }
 },
 "nbformat": 4,
 "nbformat_minor": 2
}
