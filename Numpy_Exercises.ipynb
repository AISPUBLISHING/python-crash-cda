{
 "cells": [
  {
   "cell_type": "markdown",
   "metadata": {},
   "source": [
    "# Exercise - Numpy\n",
    "Follow the notebook instructions and answer all the questions. Fill the code cells to check if you are correct.\n",
    "The assert method is a way to check if the answer is correct. Otherwise, an exception **AssertionError** will be thrown. Remember you can call the print function to check your variable at any instant.\n"
   ]
  },
  {
   "cell_type": "markdown",
   "metadata": {},
   "source": [
    "### 1. Complete the code cell below to create an array with dimension 3."
   ]
  },
  {
   "cell_type": "code",
   "execution_count": null,
   "metadata": {},
   "outputs": [],
   "source": [
    "# Complete the array definition\n",
    "import numpy as np\n",
    "arr = # TODO\n",
    "\n",
    "# Check answer\n",
    "assert(arr.ndim == 3)"
   ]
  },
  {
   "cell_type": "markdown",
   "metadata": {},
   "source": [
    "### 2. What is the shape of the array below? Change its definition, so it has shape (3,3)."
   ]
  },
  {
   "cell_type": "code",
   "execution_count": null,
   "metadata": {},
   "outputs": [],
   "source": [
    "# Fix the array definition\n",
    "import numpy as np\n",
    "arr = np.array(((1,2,3), (4,5,6), (5,6))) # FIX\n",
    "\n",
    "# Check answer\n",
    "assert(arr.shape == (3,3))"
   ]
  },
  {
   "cell_type": "markdown",
   "metadata": {},
   "source": [
    "### 3. Create an array with size 7."
   ]
  },
  {
   "cell_type": "code",
   "execution_count": null,
   "metadata": {},
   "outputs": [],
   "source": [
    "# Array definition\n",
    "import numpy as np\n",
    "arr = #TODO\n",
    "\n",
    "# Check answer\n",
    "assert(arr.size == 7)"
   ]
  },
  {
   "cell_type": "markdown",
   "metadata": {},
   "source": [
    "### 4. What's the value of x, so that the 5th element of the array is 40?"
   ]
  },
  {
   "cell_type": "code",
   "execution_count": null,
   "metadata": {},
   "outputs": [],
   "source": [
    "# Find correct x\n",
    "import numpy as np\n",
    "x = #TODO\n",
    "arr = np.linspace(0, 100, x)\n",
    "\n",
    "# Check answer\n",
    "assert(arr[4] == 40)"
   ]
  },
  {
   "cell_type": "markdown",
   "metadata": {},
   "source": [
    "### 5. What's the value of x, so that the 4th element of the array is 12?"
   ]
  },
  {
   "cell_type": "code",
   "execution_count": null,
   "metadata": {},
   "outputs": [],
   "source": [
    "# Find correct x\n",
    "import numpy as np\n",
    "x = #TODO\n",
    "arr = np.arange(0, 24, x)\n",
    "# Check answer\n",
    "assert(arr[3] == 12)"
   ]
  },
  {
   "cell_type": "markdown",
   "metadata": {},
   "source": [
    "### 6. What is the value of x, so that the array could be reshaped successfully?"
   ]
  },
  {
   "cell_type": "code",
   "execution_count": null,
   "metadata": {},
   "outputs": [],
   "source": [
    "# Value of x\n",
    "import numpy as np\n",
    "x = #TODO\n",
    "arr = np.ones(x)\n",
    "arr = arr.reshape(5, 2)\n",
    "# Check answer\n",
    "assert(arr.shape == (5, 2))"
   ]
  },
  {
   "cell_type": "markdown",
   "metadata": {},
   "source": [
    "### 7. Define an array `result` so it is equal to array `arr`."
   ]
  },
  {
   "cell_type": "code",
   "execution_count": null,
   "metadata": {},
   "outputs": [],
   "source": [
    "# Resulting array\n",
    "import numpy as np\n",
    "arr = np.zeros(4)\n",
    "arr = np.append(arr, 1)\n",
    "arr = np.append(arr, [1, 2])\n",
    "\n",
    "result = #TODO\n",
    "\n",
    "# Check answer\n",
    "assert(np.array_equal(arr, result))"
   ]
  },
  {
   "cell_type": "markdown",
   "metadata": {},
   "source": [
    "### 8. Define an array `result` so it is equal to array `arr`."
   ]
  },
  {
   "cell_type": "code",
   "execution_count": null,
   "metadata": {},
   "outputs": [],
   "source": [
    "# Resulting array\n",
    "import numpy as np\n",
    "arr1 = np.ones((2, 2))\n",
    "arr2 = np.zeros((2, 1))\n",
    "arr = np.concatenate((arr1, arr2), axis=1)\n",
    "\n",
    "result = #TODO\n",
    "\n",
    "# Check answer\n",
    "assert(np.array_equal(arr, result))"
   ]
  },
  {
   "cell_type": "markdown",
   "metadata": {},
   "source": [
    "### 9. Define an array `result` so it is equal to array `arr`."
   ]
  },
  {
   "cell_type": "code",
   "execution_count": null,
   "metadata": {},
   "outputs": [],
   "source": [
    "# Resulting array\n",
    "import numpy as np\n",
    "arr1 = np.ones((2, 2))\n",
    "arr2 = np.zeros((1, 2))\n",
    "arr = np.concatenate((arr1, arr2), axis=0)\n",
    "\n",
    "result = #TODO\n",
    "\n",
    "# Check answer\n",
    "assert(np.array_equal(arr, result))"
   ]
  },
  {
   "cell_type": "markdown",
   "metadata": {},
   "source": [
    "### 10. Define an array `result` so it is equal to array `arr`."
   ]
  },
  {
   "cell_type": "code",
   "execution_count": null,
   "metadata": {},
   "outputs": [],
   "source": [
    "# Resulting array\n",
    "import numpy as np\n",
    "arr1 = np.arange(8).reshape((2, 2, 2))\n",
    "arr = arr1[0, ...]\n",
    "\n",
    "result = #TODO\n",
    "\n",
    "# Check answer\n",
    "assert(np.array_equal(arr, result))"
   ]
  },
  {
   "cell_type": "markdown",
   "metadata": {},
   "source": [
    "### 11. Define an array `result` so it is equal to array `arr`."
   ]
  },
  {
   "cell_type": "code",
   "execution_count": null,
   "metadata": {},
   "outputs": [],
   "source": [
    "# Resulting array\n",
    "import numpy as np\n",
    "arr1 = np.arange(8)\n",
    "arr = arr1[(arr1 >= 4) & (arr1 < 7)]\n",
    "\n",
    "result = #TODO\n",
    "\n",
    "# Check answer\n",
    "assert(np.array_equal(arr, result))"
   ]
  },
  {
   "cell_type": "markdown",
   "metadata": {},
   "source": [
    "### 12. Complete the definition of the array result, using one operation between `arr1` and `arr2` to achieve the desired result."
   ]
  },
  {
   "cell_type": "code",
   "execution_count": null,
   "metadata": {},
   "outputs": [],
   "source": [
    "# Complete the array definition\n",
    "import numpy as np\n",
    "arr1 = np.array([1, 2, 3])\n",
    "arr2 = np.array([1, 2, 3])\n",
    "\n",
    "result = # TODO\n",
    "desired_result = np.array([1, 4, 27])\n",
    "\n",
    "# Check answer\n",
    "assert(np.array_equal(result, desired_result))"
   ]
  },
  {
   "cell_type": "markdown",
   "metadata": {},
   "source": [
    "### 13. Complete the definition of the array `result`, using one operation between `arr1` and `arr2` to achieve the desired result."
   ]
  },
  {
   "cell_type": "code",
   "execution_count": null,
   "metadata": {},
   "outputs": [],
   "source": [
    "# Complete the array definition\n",
    "import numpy as np\n",
    "arr1 = np.array([4, 5, 6])\n",
    "arr2 = np.array([2, 3, 5])\n",
    "\n",
    "result = # TODO\n",
    "desired_result = np.array([0, 2, 1])\n",
    "\n",
    "# Check answer\n",
    "assert(np.array_equal(result, desired_result))"
   ]
  },
  {
   "cell_type": "markdown",
   "metadata": {},
   "source": [
    "### 14. Use Numpy function to get the determinant of the matrix `mat`?"
   ]
  },
  {
   "cell_type": "code",
   "execution_count": null,
   "metadata": {},
   "outputs": [],
   "source": [
    "# Complete the array definition\n",
    "import numpy as np\n",
    "mat = np.array([[2,-1,0], [2, 1, 3], [-3, 1, 0]])\n",
    "det = #TODO\n",
    "\n",
    "# Check answer\n",
    "assert(np.isclose(3, det))"
   ]
  },
  {
   "cell_type": "markdown",
   "metadata": {},
   "source": [
    "### 15. According to Numpy broadcasting, define an array `result` so it is equal to array `arr`."
   ]
  },
  {
   "cell_type": "code",
   "execution_count": null,
   "metadata": {},
   "outputs": [],
   "source": [
    "# Complete the resulting array \n",
    "import numpy as np\n",
    "arr1 = np.array([[2,-1,0], [2, 1, 3], [-3, 1, 0]])\n",
    "\n",
    "arr = arr1 + 2\n",
    "\n",
    "result = #TODO\n",
    "\n",
    "# Check answer\n",
    "assert(np.array_equal(arr, result))"
   ]
  },
  {
   "cell_type": "markdown",
   "metadata": {},
   "source": [
    "### 16. According to Numpy broadcasting, define an array `result` so it is equal to array `arr`."
   ]
  },
  {
   "cell_type": "code",
   "execution_count": null,
   "metadata": {},
   "outputs": [],
   "source": [
    "# Complete the resulting array \n",
    "import numpy as np\n",
    "arr1 = np.array([[2,-1,0], [2, 1, 3], [-3, 1, 0]])\n",
    "\n",
    "arr = arr1 + np.array([1, 2, 3])\n",
    "\n",
    "result = #TODO\n",
    "\n",
    "# Check answer\n",
    "assert(np.array_equal(arr, result))"
   ]
  },
  {
   "cell_type": "markdown",
   "metadata": {},
   "source": [
    "### 17. According to Numpy broadcasting, define an array `result` so it is equal to array `arr`."
   ]
  },
  {
   "cell_type": "code",
   "execution_count": null,
   "metadata": {},
   "outputs": [],
   "source": [
    "# Complete the resulting array \n",
    "import numpy as np\n",
    "arr1 = np.array([[2,-1,0], [2, 1, 3], [-3, 1, 0]])\n",
    "\n",
    "arr = arr1 + np.array([[1], [2], [3]])\n",
    "\n",
    "result = #TODO\n",
    "\n",
    "# Check answer\n",
    "assert(np.array_equal(arr, result))"
   ]
  },
  {
   "cell_type": "markdown",
   "metadata": {},
   "source": [
    "### 18. Use built-in function to calculate the mean of the columns of the array."
   ]
  },
  {
   "cell_type": "code",
   "execution_count": null,
   "metadata": {},
   "outputs": [],
   "source": [
    "# Complete the resulting array \n",
    "import numpy as np\n",
    "arr = np.array([[1,-1,0], [2, 1, 3], [-3, 1, 0], [1, 2, 3], [-1, 3, -2], [7, 1, 0]])\n",
    "\n",
    "cols_mean = #TODO\n",
    "\n",
    "# Check answer\n",
    "assert(np.array_equal(cols_mean, np.array([1, 1.5, 1.5])))"
   ]
  },
  {
   "cell_type": "markdown",
   "metadata": {},
   "source": [
    "### 19. Use built-in function to calculate the sum of the rows of the array."
   ]
  },
  {
   "cell_type": "code",
   "execution_count": null,
   "metadata": {},
   "outputs": [],
   "source": [
    "# Complete the resulting array \n",
    "import numpy as np\n",
    "arr = np.array([[1,-1,0], [2, 1, 3], [-3, 1, 0], [1, 2, 3], [-1, 3, -2], [7, 1, 0]])\n",
    "\n",
    "cols_mean = #TODO\n",
    "\n",
    "# Check answer\n",
    "assert(np.array_equal(cols_mean, np.array([0, 6, -2, 6, 0, 8])))"
   ]
  }
 ],
 "metadata": {
  "kernelspec": {
   "display_name": "Python 3",
   "language": "python",
   "name": "python3"
  },
  "language_info": {
   "codemirror_mode": {
    "name": "ipython",
    "version": 3
   },
   "file_extension": ".py",
   "mimetype": "text/x-python",
   "name": "python",
   "nbconvert_exporter": "python",
   "pygments_lexer": "ipython3",
   "version": "3.6.5"
  }
 },
 "nbformat": 4,
 "nbformat_minor": 2
}
