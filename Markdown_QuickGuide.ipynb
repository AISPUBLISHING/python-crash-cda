{
 "cells": [
  {
   "cell_type": "markdown",
   "metadata": {},
   "source": [
    "# Quick Guide - Markdown\n",
    "___"
   ]
  },
  {
   "cell_type": "markdown",
   "metadata": {},
   "source": [
    "## Summary\n",
    "\n",
    "- [Headings](#Headings)\n",
    "- [Emphasis](#Emphasis)\n",
    "- [Code](#Code)\n",
    "- [Horizontal Rule](#Horizontal-Rule)\n",
    "- [Quotes](#Quotes)\n",
    "- [Images](#Images)\n",
    "- [Links](#Links)\n",
    "\n",
    "---"
   ]
  },
  {
   "cell_type": "markdown",
   "metadata": {},
   "source": [
    "# Headings"
   ]
  },
  {
   "cell_type": "raw",
   "metadata": {},
   "source": [
    "# H1\n",
    "## H2\n",
    "### H3\n",
    "...\n",
    "###### H6"
   ]
  },
  {
   "cell_type": "markdown",
   "metadata": {},
   "source": [
    "# H1\n",
    "## H2\n",
    "### H3\n",
    "...\n",
    "###### H6\n",
    "---"
   ]
  },
  {
   "cell_type": "markdown",
   "metadata": {},
   "source": [
    "# Emphasis"
   ]
  },
  {
   "cell_type": "raw",
   "metadata": {},
   "source": [
    "Use double asterisk/underscore for **bold**/__bold__\n",
    "\n",
    "Use single asterisk/underscore for *italic*/_italic_\n",
    "\n",
    "Use double tildes for ~~Strikethrough~~"
   ]
  },
  {
   "cell_type": "markdown",
   "metadata": {},
   "source": [
    "Use double asterisk/underscore for **bold**/__bold__\n",
    "\n",
    "Use single asterisk/underscore for *italic*/_italic_\n",
    "\n",
    "Use double tildes for ~~Strikethrough~~\n",
    "\n",
    "---"
   ]
  },
  {
   "cell_type": "markdown",
   "metadata": {},
   "source": [
    "# Code"
   ]
  },
  {
   "cell_type": "raw",
   "metadata": {},
   "source": [
    "This is `inline` code format.\n",
    "\n",
    "A code block uses triple back-ticks (`), followed by the language name for syntax highlight.\n",
    "\n",
    "```python\n",
    "# Python formated code\n",
    "x = 1\n",
    "print(x)\n",
    "``` "
   ]
  },
  {
   "cell_type": "markdown",
   "metadata": {},
   "source": [
    "This is `inline` code format.\n",
    "\n",
    "A code block uses triple back-ticks (`), followed by the language name for syntax highlight.\n",
    "\n",
    "```python\n",
    "# Python formated code\n",
    "x = 1\n",
    "print(x)\n",
    "``` \n",
    "\n",
    "---"
   ]
  },
  {
   "cell_type": "markdown",
   "metadata": {},
   "source": [
    "# Lists"
   ]
  },
  {
   "cell_type": "raw",
   "metadata": {},
   "source": [
    "Ordered lists use (number + dot) notation:\n",
    "1. First\n",
    "2. Second\n",
    "3. Third\n",
    "  1. Sub-list (Need to be number to specify that the list is ordered).\n",
    " \n",
    "\n",
    "Unordered lists uses minus, plus or asterisk(-/+/*) notation :\n",
    "* asterisk\n",
    "- minus\n",
    "+ plus\n",
    "  - Sublist\n",
    "  \n",
    "  You can indent paragraphs maintaining the space in front of the text.\n",
    "  \n",
    "  \n",
    "Or continue normal text after two blank lines."
   ]
  },
  {
   "cell_type": "markdown",
   "metadata": {},
   "source": [
    "Ordered lists use (number + dot) notation:\n",
    "1. First\n",
    "2. Second\n",
    "3. Third\n",
    "  1. Sub-list (Need to be number to specify that the list is ordered).\n",
    " \n",
    "\n",
    "Unordered lists uses minus,plus or asterisk(-/+/*) notation :\n",
    "* asterisk\n",
    "- minus\n",
    "+ plus\n",
    "  - Sublist\n",
    "  \n",
    "  You can indent paragraphs maintaining the space in front of the text.\n",
    "  \n",
    "  \n",
    "Or continue normal text after two blank lines.\n",
    "\n",
    "---"
   ]
  },
  {
   "cell_type": "markdown",
   "metadata": {},
   "source": [
    "# Horizontal Rule"
   ]
  },
  {
   "cell_type": "raw",
   "metadata": {},
   "source": [
    "Triple or more hyphens, asterisk or underscores:\n",
    "\n",
    "---\n",
    "***\n",
    "___"
   ]
  },
  {
   "cell_type": "markdown",
   "metadata": {},
   "source": [
    "Triple or more hyphens, asterisk or underscores:\n",
    "\n",
    "---\n",
    "***\n",
    "___\n",
    "\n",
    "\n",
    "\n"
   ]
  },
  {
   "cell_type": "markdown",
   "metadata": {},
   "source": [
    "# Quotes"
   ]
  },
  {
   "cell_type": "raw",
   "metadata": {},
   "source": [
    "> Quote.\n",
    "> Continue quote...\n",
    "More...\n",
    "\n",
    "Break quote."
   ]
  },
  {
   "cell_type": "markdown",
   "metadata": {},
   "source": [
    "> Quote.\n",
    "> Continue quote...\n",
    "More...\n",
    "\n",
    "Break quote.\n",
    "\n",
    "---"
   ]
  },
  {
   "cell_type": "markdown",
   "metadata": {},
   "source": [
    "# Images"
   ]
  },
  {
   "cell_type": "raw",
   "metadata": {},
   "source": [
    "![Image alt text](image.URL.here \"Image hover title here\")"
   ]
  },
  {
   "cell_type": "markdown",
   "metadata": {},
   "source": [
    "![Image alt text](image.URL.here \"Image Title here\")"
   ]
  },
  {
   "cell_type": "markdown",
   "metadata": {},
   "source": [
    "# Links"
   ]
  },
  {
   "cell_type": "raw",
   "metadata": {},
   "source": [
    "[Link text here](link.address.here \"Link hover title\")"
   ]
  },
  {
   "cell_type": "markdown",
   "metadata": {},
   "source": [
    "[Link text here](link.address.here \"Link hover title\")\n"
   ]
  }
 ],
 "metadata": {
  "kernelspec": {
   "display_name": "Python 3",
   "language": "python",
   "name": "python3"
  },
  "language_info": {
   "codemirror_mode": {
    "name": "ipython",
    "version": 3
   },
   "file_extension": ".py",
   "mimetype": "text/x-python",
   "name": "python",
   "nbconvert_exporter": "python",
   "pygments_lexer": "ipython3",
   "version": "3.6.5"
  }
 },
 "nbformat": 4,
 "nbformat_minor": 2
}
